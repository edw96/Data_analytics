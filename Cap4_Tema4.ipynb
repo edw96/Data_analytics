{
 "cells": [
  {
   "cell_type": "code",
   "execution_count": 14,
   "id": "77ae5dbd-ee5e-416f-bed3-458486455aed",
   "metadata": {},
   "outputs": [
    {
     "data": {
      "text/html": [
       "<div>\n",
       "<style scoped>\n",
       "    .dataframe tbody tr th:only-of-type {\n",
       "        vertical-align: middle;\n",
       "    }\n",
       "\n",
       "    .dataframe tbody tr th {\n",
       "        vertical-align: top;\n",
       "    }\n",
       "\n",
       "    .dataframe thead th {\n",
       "        text-align: right;\n",
       "    }\n",
       "</style>\n",
       "<table border=\"1\" class=\"dataframe\">\n",
       "  <thead>\n",
       "    <tr style=\"text-align: right;\">\n",
       "      <th></th>\n",
       "      <th>ResponseId</th>\n",
       "      <th>MainBranch</th>\n",
       "      <th>Age</th>\n",
       "      <th>Employment</th>\n",
       "      <th>RemoteWork</th>\n",
       "      <th>Check</th>\n",
       "      <th>CodingActivities</th>\n",
       "      <th>EdLevel</th>\n",
       "      <th>LearnCode</th>\n",
       "      <th>LearnCodeOnline</th>\n",
       "      <th>...</th>\n",
       "      <th>JobSatPoints_6</th>\n",
       "      <th>JobSatPoints_7</th>\n",
       "      <th>JobSatPoints_8</th>\n",
       "      <th>JobSatPoints_9</th>\n",
       "      <th>JobSatPoints_10</th>\n",
       "      <th>JobSatPoints_11</th>\n",
       "      <th>SurveyLength</th>\n",
       "      <th>SurveyEase</th>\n",
       "      <th>ConvertedCompYearly</th>\n",
       "      <th>JobSat</th>\n",
       "    </tr>\n",
       "  </thead>\n",
       "  <tbody>\n",
       "    <tr>\n",
       "      <th>0</th>\n",
       "      <td>1</td>\n",
       "      <td>I am a developer by profession</td>\n",
       "      <td>Under 18 years old</td>\n",
       "      <td>Employed, full-time</td>\n",
       "      <td>Remote</td>\n",
       "      <td>Apples</td>\n",
       "      <td>Hobby</td>\n",
       "      <td>Primary/elementary school</td>\n",
       "      <td>Books / Physical media</td>\n",
       "      <td>NaN</td>\n",
       "      <td>...</td>\n",
       "      <td>NaN</td>\n",
       "      <td>NaN</td>\n",
       "      <td>NaN</td>\n",
       "      <td>NaN</td>\n",
       "      <td>NaN</td>\n",
       "      <td>NaN</td>\n",
       "      <td>NaN</td>\n",
       "      <td>NaN</td>\n",
       "      <td>NaN</td>\n",
       "      <td>NaN</td>\n",
       "    </tr>\n",
       "    <tr>\n",
       "      <th>1</th>\n",
       "      <td>2</td>\n",
       "      <td>I am a developer by profession</td>\n",
       "      <td>35-44 years old</td>\n",
       "      <td>Employed, full-time</td>\n",
       "      <td>Remote</td>\n",
       "      <td>Apples</td>\n",
       "      <td>Hobby;Contribute to open-source projects;Other...</td>\n",
       "      <td>Bachelor’s degree (B.A., B.S., B.Eng., etc.)</td>\n",
       "      <td>Books / Physical media;Colleague;On the job tr...</td>\n",
       "      <td>Technical documentation;Blogs;Books;Written Tu...</td>\n",
       "      <td>...</td>\n",
       "      <td>0.0</td>\n",
       "      <td>0.0</td>\n",
       "      <td>0.0</td>\n",
       "      <td>0.0</td>\n",
       "      <td>0.0</td>\n",
       "      <td>0.0</td>\n",
       "      <td>NaN</td>\n",
       "      <td>NaN</td>\n",
       "      <td>NaN</td>\n",
       "      <td>NaN</td>\n",
       "    </tr>\n",
       "    <tr>\n",
       "      <th>2</th>\n",
       "      <td>3</td>\n",
       "      <td>I am a developer by profession</td>\n",
       "      <td>45-54 years old</td>\n",
       "      <td>Employed, full-time</td>\n",
       "      <td>Remote</td>\n",
       "      <td>Apples</td>\n",
       "      <td>Hobby;Contribute to open-source projects;Other...</td>\n",
       "      <td>Master’s degree (M.A., M.S., M.Eng., MBA, etc.)</td>\n",
       "      <td>Books / Physical media;Colleague;On the job tr...</td>\n",
       "      <td>Technical documentation;Blogs;Books;Written Tu...</td>\n",
       "      <td>...</td>\n",
       "      <td>NaN</td>\n",
       "      <td>NaN</td>\n",
       "      <td>NaN</td>\n",
       "      <td>NaN</td>\n",
       "      <td>NaN</td>\n",
       "      <td>NaN</td>\n",
       "      <td>Appropriate in length</td>\n",
       "      <td>Easy</td>\n",
       "      <td>NaN</td>\n",
       "      <td>NaN</td>\n",
       "    </tr>\n",
       "    <tr>\n",
       "      <th>3</th>\n",
       "      <td>4</td>\n",
       "      <td>I am learning to code</td>\n",
       "      <td>18-24 years old</td>\n",
       "      <td>Student, full-time</td>\n",
       "      <td>NaN</td>\n",
       "      <td>Apples</td>\n",
       "      <td>NaN</td>\n",
       "      <td>Some college/university study without earning ...</td>\n",
       "      <td>Other online resources (e.g., videos, blogs, f...</td>\n",
       "      <td>Stack Overflow;How-to videos;Interactive tutorial</td>\n",
       "      <td>...</td>\n",
       "      <td>NaN</td>\n",
       "      <td>NaN</td>\n",
       "      <td>NaN</td>\n",
       "      <td>NaN</td>\n",
       "      <td>NaN</td>\n",
       "      <td>NaN</td>\n",
       "      <td>Too long</td>\n",
       "      <td>Easy</td>\n",
       "      <td>NaN</td>\n",
       "      <td>NaN</td>\n",
       "    </tr>\n",
       "    <tr>\n",
       "      <th>4</th>\n",
       "      <td>5</td>\n",
       "      <td>I am a developer by profession</td>\n",
       "      <td>18-24 years old</td>\n",
       "      <td>Student, full-time</td>\n",
       "      <td>NaN</td>\n",
       "      <td>Apples</td>\n",
       "      <td>NaN</td>\n",
       "      <td>Secondary school (e.g. American high school, G...</td>\n",
       "      <td>Other online resources (e.g., videos, blogs, f...</td>\n",
       "      <td>Technical documentation;Blogs;Written Tutorial...</td>\n",
       "      <td>...</td>\n",
       "      <td>NaN</td>\n",
       "      <td>NaN</td>\n",
       "      <td>NaN</td>\n",
       "      <td>NaN</td>\n",
       "      <td>NaN</td>\n",
       "      <td>NaN</td>\n",
       "      <td>Too short</td>\n",
       "      <td>Easy</td>\n",
       "      <td>NaN</td>\n",
       "      <td>NaN</td>\n",
       "    </tr>\n",
       "  </tbody>\n",
       "</table>\n",
       "<p>5 rows × 114 columns</p>\n",
       "</div>"
      ],
      "text/plain": [
       "   ResponseId                      MainBranch                 Age  \\\n",
       "0           1  I am a developer by profession  Under 18 years old   \n",
       "1           2  I am a developer by profession     35-44 years old   \n",
       "2           3  I am a developer by profession     45-54 years old   \n",
       "3           4           I am learning to code     18-24 years old   \n",
       "4           5  I am a developer by profession     18-24 years old   \n",
       "\n",
       "            Employment RemoteWork   Check  \\\n",
       "0  Employed, full-time     Remote  Apples   \n",
       "1  Employed, full-time     Remote  Apples   \n",
       "2  Employed, full-time     Remote  Apples   \n",
       "3   Student, full-time        NaN  Apples   \n",
       "4   Student, full-time        NaN  Apples   \n",
       "\n",
       "                                    CodingActivities  \\\n",
       "0                                              Hobby   \n",
       "1  Hobby;Contribute to open-source projects;Other...   \n",
       "2  Hobby;Contribute to open-source projects;Other...   \n",
       "3                                                NaN   \n",
       "4                                                NaN   \n",
       "\n",
       "                                             EdLevel  \\\n",
       "0                          Primary/elementary school   \n",
       "1       Bachelor’s degree (B.A., B.S., B.Eng., etc.)   \n",
       "2    Master’s degree (M.A., M.S., M.Eng., MBA, etc.)   \n",
       "3  Some college/university study without earning ...   \n",
       "4  Secondary school (e.g. American high school, G...   \n",
       "\n",
       "                                           LearnCode  \\\n",
       "0                             Books / Physical media   \n",
       "1  Books / Physical media;Colleague;On the job tr...   \n",
       "2  Books / Physical media;Colleague;On the job tr...   \n",
       "3  Other online resources (e.g., videos, blogs, f...   \n",
       "4  Other online resources (e.g., videos, blogs, f...   \n",
       "\n",
       "                                     LearnCodeOnline  ... JobSatPoints_6  \\\n",
       "0                                                NaN  ...            NaN   \n",
       "1  Technical documentation;Blogs;Books;Written Tu...  ...            0.0   \n",
       "2  Technical documentation;Blogs;Books;Written Tu...  ...            NaN   \n",
       "3  Stack Overflow;How-to videos;Interactive tutorial  ...            NaN   \n",
       "4  Technical documentation;Blogs;Written Tutorial...  ...            NaN   \n",
       "\n",
       "  JobSatPoints_7 JobSatPoints_8 JobSatPoints_9 JobSatPoints_10  \\\n",
       "0            NaN            NaN            NaN             NaN   \n",
       "1            0.0            0.0            0.0             0.0   \n",
       "2            NaN            NaN            NaN             NaN   \n",
       "3            NaN            NaN            NaN             NaN   \n",
       "4            NaN            NaN            NaN             NaN   \n",
       "\n",
       "  JobSatPoints_11           SurveyLength SurveyEase ConvertedCompYearly JobSat  \n",
       "0             NaN                    NaN        NaN                 NaN    NaN  \n",
       "1             0.0                    NaN        NaN                 NaN    NaN  \n",
       "2             NaN  Appropriate in length       Easy                 NaN    NaN  \n",
       "3             NaN               Too long       Easy                 NaN    NaN  \n",
       "4             NaN              Too short       Easy                 NaN    NaN  \n",
       "\n",
       "[5 rows x 114 columns]"
      ]
     },
     "execution_count": 14,
     "metadata": {},
     "output_type": "execute_result"
    }
   ],
   "source": [
    "import pandas as pd\n",
    "stack = pd.read_csv('C:/Users/User/OneDrive/Desktop/Data analytics/stack-overflow-developer-survey-2024/survey_results_public.csv')\n",
    "stack.head()"
   ]
  },
  {
   "cell_type": "code",
   "execution_count": 18,
   "id": "79b37393-23e0-41a0-be25-e8d5b5f640c8",
   "metadata": {},
   "outputs": [
    {
     "name": "stdout",
     "output_type": "stream",
     "text": [
      "Numărul total de respondenți este: 65437\n"
     ]
    }
   ],
   "source": [
    "#1 Câți respondenți au completat sondajul?\n",
    "\n",
    "num_respondents = df.shape[0]\n",
    "print(f\"Numărul total de respondenți este: {num_respondents}\")"
   ]
  },
  {
   "cell_type": "code",
   "execution_count": 20,
   "id": "c469a5f2-fd17-4722-80b8-f5f3375126a9",
   "metadata": {},
   "outputs": [
    {
     "name": "stdout",
     "output_type": "stream",
     "text": [
      "Numarul de respondenti care au raspuns la toate intrebarile este: 0\n"
     ]
    }
   ],
   "source": [
    "#2 Câți respondenți au răspuns la toate întrebările?\n",
    "\n",
    "no_NaN_data = df.dropna()\n",
    "num_complete_response = no_NaN_data.shape[0]\n",
    "print(f\"Numarul de respondenti care au raspuns la toate intrebarile este: {num_complete_response}\")"
   ]
  },
  {
   "cell_type": "code",
   "execution_count": 32,
   "id": "dfdb817b-a353-4bc1-8820-44223ad59463",
   "metadata": {},
   "outputs": [
    {
     "name": "stdout",
     "output_type": "stream",
     "text": [
      "Mean: 11.46695663901814\n",
      "Median: 9.0\n",
      "Mode: 0    3.0\n",
      "Name: WorkExp, dtype: float64\n"
     ]
    }
   ],
   "source": [
    "#3 Care sunt valorile măsurilor de tendință centrală pentru experiența respondenților (WorkExp)?\n",
    "\n",
    "mean_WorkExp = stack['WorkExp'].mean()\n",
    "median_WorkExp = stack['WorkExp'].median()\n",
    "mode_WorkExp = stack['WorkExp'].mode()\n",
    "print(f\"Mean: {mean_WorkExp}\")\n",
    "print(f\"Median: {median_WorkExp}\")\n",
    "print(f\"Mode: {mode_WorkExp}\")"
   ]
  },
  {
   "cell_type": "code",
   "execution_count": 34,
   "id": "95821c74-a09b-4320-bcef-9b2ef6438fb3",
   "metadata": {},
   "outputs": [
    {
     "name": "stdout",
     "output_type": "stream",
     "text": [
      "Numarul de respondenti care lucreaza la distanta este: 20831\n"
     ]
    }
   ],
   "source": [
    "#4 Câți respondenți lucrează de la distanță?\n",
    "\n",
    "la_distanta = stack[stack['RemoteWork'] == 'Remote']\n",
    "num_la_distanta = la_distanta.shape[0]\n",
    "print(f\"Numarul de respondenti care lucreaza la distanta este: {num_la_distanta}\")"
   ]
  },
  {
   "cell_type": "code",
   "execution_count": 98,
   "id": "2357fded-7ac0-4418-a629-7420d56c10cb",
   "metadata": {},
   "outputs": [
    {
     "name": "stdout",
     "output_type": "stream",
     "text": [
      "Procentul de respondenti care programeaza in Pyhton este: 47.0605315035836\n"
     ]
    }
   ],
   "source": [
    "#5 Ce procent de respondenți programează în Python?\n",
    "\n",
    "python_users = stack[stack['LanguageHaveWorkedWith'].str.contains('Python', case = False, na=False)]\n",
    "num_python_users = python_users.shape[0]\n",
    "total_respondents = stack.shape[0]\n",
    "percent_python_users = (num_python_users / total_respondents) * 100\n",
    "print(f\"Procentul de respondenti care programeaza in Pyhton este: {percent_python_users}\")"
   ]
  },
  {
   "cell_type": "code",
   "execution_count": 76,
   "id": "7a817649-c360-4ffc-9690-73172f457c9b",
   "metadata": {},
   "outputs": [
    {
     "name": "stdout",
     "output_type": "stream",
     "text": [
      "Numarul de respondenti care au invatat prin cursuri online este: 49654\n"
     ]
    }
   ],
   "source": [
    "#6 Câți respondenți au învățat să programeze prin cursuri online?\n",
    "\n",
    "cursuri_online = stack[stack['LearnCode'].str.contains('Other online resources', case = False, na = False)]\n",
    "num_cursuri_online = cursuri_online.shape[0]\n",
    "print(f\"Numarul de respondenti care au invatat prin cursuri online este: {num_cursuri_online}\")"
   ]
  },
  {
   "cell_type": "code",
   "execution_count": 100,
   "id": "3d706870-4248-408f-98d0-a427c818d598",
   "metadata": {},
   "outputs": [
    {
     "name": "stdout",
     "output_type": "stream",
     "text": [
      "                                  Country           mean    median\n",
      "0                             Afghanistan    4543.000000    4768.5\n",
      "1                                 Albania   56295.000000   56295.0\n",
      "2                                 Algeria    9053.285714    6230.0\n",
      "3                                 Andorra  193331.000000  193331.0\n",
      "4                                  Angola       6.000000       6.0\n",
      "..                                    ...            ...       ...\n",
      "168  Venezuela, Bolivarian Republic of...   21500.000000    7100.0\n",
      "169                              Viet Nam   14014.562500   10180.0\n",
      "170                                 Yemen   10297.333333    5333.0\n",
      "171                                Zambia   28123.666667   22803.0\n",
      "172                              Zimbabwe   37500.000000   18000.0\n",
      "\n",
      "[173 rows x 3 columns]\n"
     ]
    }
   ],
   "source": [
    "#7 Dintre respondenții care programează în Python, grupați pe țări, \n",
    "#care este valoarea medie și mediană a remunerației (ConvertedCompYearly) în fiecare țară?\n",
    "\n",
    "python_users = stack[stack['LanguageHaveWorkedWith'].str.contains('Python', case = False, na=False)]\n",
    "salary_stats = python_users.groupby('Country')['ConvertedCompYearly'].agg(['mean', 'median']).reset_index()\n",
    "print(salary_stats)"
   ]
  },
  {
   "cell_type": "code",
   "execution_count": 106,
   "id": "afe8885f-7099-4ac8-abb7-0e7e324d1b2b",
   "metadata": {},
   "outputs": [
    {
     "name": "stdout",
     "output_type": "stream",
     "text": [
      "       ConvertedCompYearly                                         EdLevel\n",
      "15837           16256603.0    Bachelor’s degree (B.A., B.S., B.Eng., etc.)\n",
      "12723           13818022.0  Professional degree (JD, MD, Ph.D, Ed.D, etc.)\n",
      "28379            9000000.0  Professional degree (JD, MD, Ph.D, Ed.D, etc.)\n",
      "17593            6340564.0    Bachelor’s degree (B.A., B.S., B.Eng., etc.)\n",
      "17672            4936778.0  Professional degree (JD, MD, Ph.D, Ed.D, etc.)\n"
     ]
    }
   ],
   "source": [
    "#8 Ce nivel de educație au cei 5 respondenți cu cea mai mare compensație?\n",
    "\n",
    "sorted = stack.sort_values(by = 'ConvertedCompYearly', ascending = False)\n",
    "top_5 = sorted[['ConvertedCompYearly', 'EdLevel']].head(5)\n",
    "print(top_5)"
   ]
  },
  {
   "cell_type": "code",
   "execution_count": null,
   "id": "e5216f2e-5c47-49aa-9b43-2ed19d59a2a2",
   "metadata": {},
   "outputs": [],
   "source": []
  }
 ],
 "metadata": {
  "kernelspec": {
   "display_name": "Python 3 (ipykernel)",
   "language": "python",
   "name": "python3"
  },
  "language_info": {
   "codemirror_mode": {
    "name": "ipython",
    "version": 3
   },
   "file_extension": ".py",
   "mimetype": "text/x-python",
   "name": "python",
   "nbconvert_exporter": "python",
   "pygments_lexer": "ipython3",
   "version": "3.12.4"
  }
 },
 "nbformat": 4,
 "nbformat_minor": 5
}
